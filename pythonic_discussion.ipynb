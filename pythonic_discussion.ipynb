{
 "cells": [
  {
   "cell_type": "markdown",
   "id": "15710c86-24e6-462d-bf8b-17ec31048368",
   "metadata": {},
   "source": [
    "# Pythonic Things for PrincetonPy"
   ]
  },
  {
   "cell_type": "markdown",
   "id": "10762238-1c4c-404b-bd3b-88a2a63af9e8",
   "metadata": {},
   "source": [
    "Obviously, many of the things you'll see below like loading data and masking can be done with excellent Python libraries like pandas and numpy, but for the sake of learning let's keep things simple to see these quirky syntaxes that can sometimes discourage new learners."
   ]
  },
  {
   "cell_type": "markdown",
   "id": "b6eb21c1-c12e-498c-82e4-71db1b841eba",
   "metadata": {},
   "source": [
    "## Links\n",
    "\n",
    "[SO Hidden Features of Python](https://stackoverflow.com/questions/101268/hidden-features-of-python)\n",
    "\n",
    "ChatGPT has lots of ideas too!\n",
    "\n",
    "An [interesting list of AntiPatterns](https://sourcemaking.com/antipatterns/software-development-antipatterns) to avoid regardless of language"
   ]
  },
  {
   "cell_type": "markdown",
   "id": "826d44f0-c719-49ca-ba3c-7ac32a605b8f",
   "metadata": {},
   "source": [
    "## Import Prerequisites"
   ]
  },
  {
   "cell_type": "code",
   "execution_count": null,
   "id": "96866ca4-220d-4bd8-b0b1-e2c395747f51",
   "metadata": {},
   "outputs": [],
   "source": [
    "import numpy as np"
   ]
  },
  {
   "cell_type": "markdown",
   "id": "55ff2328-f4e6-4d72-9160-6d101d098cfc",
   "metadata": {},
   "source": [
    "## Cute Built-In Summary"
   ]
  },
  {
   "cell_type": "code",
   "execution_count": null,
   "id": "37c658c3-19a6-483b-ade3-5d8ef2961db3",
   "metadata": {},
   "outputs": [],
   "source": [
    "import this"
   ]
  },
  {
   "cell_type": "markdown",
   "id": "e50d3929-ef57-4506-a103-050f04b0a3cc",
   "metadata": {},
   "source": [
    "## Pythonic Looping"
   ]
  },
  {
   "cell_type": "code",
   "execution_count": null,
   "id": "bfabb5e7-a505-4e44-b769-4dd09eab39c7",
   "metadata": {},
   "outputs": [],
   "source": [
    "long_st = 'thisisareallylongstring'\n",
    "for x in long_st:\n",
    "    print(x)"
   ]
  },
  {
   "cell_type": "code",
   "execution_count": null,
   "id": "553fcaba-9a4f-46e5-8a04-500d917aa7fc",
   "metadata": {},
   "outputs": [],
   "source": [
    "long_st_sp = 'this is a really long string too!'\n",
    "for x in long_st_sp.split():\n",
    "    print(x)"
   ]
  },
  {
   "cell_type": "code",
   "execution_count": null,
   "id": "88b37659-1492-4055-a4d1-a63384b33c9d",
   "metadata": {},
   "outputs": [],
   "source": [
    "comma_data = ['1,honda,red,120.0','2,porsche,white,200.0','3,schwinn,purple,20.0']\n",
    "for row in comma_data:\n",
    "    print(row.split(','))"
   ]
  },
  {
   "cell_type": "code",
   "execution_count": null,
   "id": "b7bf7422-4ae2-4878-a71d-fc5ac270eddf",
   "metadata": {},
   "outputs": [],
   "source": [
    "for index, item in enumerate(long_st_sp.split()):\n",
    "    print(index, item)"
   ]
  },
  {
   "cell_type": "markdown",
   "id": "1564654e-7a53-4d89-b847-465ed2e83529",
   "metadata": {},
   "source": [
    "## List Comprehension"
   ]
  },
  {
   "cell_type": "code",
   "execution_count": null,
   "id": "c689d5b5-fc5c-4ff3-a295-6fe7b8a77110",
   "metadata": {},
   "outputs": [],
   "source": [
    "list_st = [a for a in long_st]\n",
    "print(list_st)"
   ]
  },
  {
   "cell_type": "code",
   "execution_count": null,
   "id": "81580ecf-e9e5-4349-b20e-ef6ef1c9d5f2",
   "metadata": {},
   "outputs": [],
   "source": [
    "list_st_v = [a for a in long_st if a in ['a', 'e', 'i', 'o', 'u']]\n",
    "#list_st_v = [a for a in long_st if a in 'aeiou']\n",
    "print(list_st_v)"
   ]
  },
  {
   "cell_type": "code",
   "execution_count": null,
   "id": "981348c5-aeab-47d7-8c2d-0942f6145510",
   "metadata": {},
   "outputs": [],
   "source": [
    "random_nums = np.random.rand(100)\n",
    "# B for BIG!\n",
    "small_random_nums = [i if i < 0.1 else 'B' for i in random_nums]\n",
    "print(small_random_nums)"
   ]
  },
  {
   "cell_type": "code",
   "execution_count": null,
   "id": "76bd1baa-3fe1-4731-bf87-8dead0d4c216",
   "metadata": {},
   "outputs": [],
   "source": [
    "# E for EXTREME!\n",
    "medium_random_nums = [i if 0.4 < i < 0.6 else 'E' for i in random_nums]\n",
    "print(medium_random_nums)"
   ]
  },
  {
   "cell_type": "code",
   "execution_count": null,
   "id": "99cd69ef-0d79-48fd-b6eb-5592fe5a20d2",
   "metadata": {},
   "outputs": [],
   "source": [
    "mask_random_nums = [1 if i > 0.5 else 0 for i in random_nums]\n",
    "print(mask_random_nums)"
   ]
  },
  {
   "cell_type": "markdown",
   "id": "9c642467-10b8-4ae2-b603-11a901c26ac5",
   "metadata": {},
   "source": [
    "## Dictionaries"
   ]
  },
  {
   "cell_type": "code",
   "execution_count": null,
   "id": "a951c8ff-e47d-47ca-9eec-c6e70ab90f1f",
   "metadata": {},
   "outputs": [],
   "source": [
    "{x: np.exp(-1*x) for x in range(10)}"
   ]
  },
  {
   "cell_type": "code",
   "execution_count": null,
   "id": "ce3fad17-0cf3-48fd-a045-924270807015",
   "metadata": {},
   "outputs": [],
   "source": [
    "speed_dict = {'120': 'Honda', '200': 'Porsche', '20': 'Schwinn'}\n",
    "inverse = {value: key for key, value in speed_dict.items()}\n",
    "print(inverse)"
   ]
  },
  {
   "cell_type": "code",
   "execution_count": null,
   "id": "63bae5e5-0eb3-49a9-8d67-b212d32f6505",
   "metadata": {},
   "outputs": [],
   "source": [
    "data = {\n",
    "    \"John\": {\"age\": 28, \"city\": \"New York\"},\n",
    "    \"Anna\": {\"age\": 22, \"city\": \"Berlin\"}\n",
    "}\n",
    "print(data)\n",
    "print(data['John']['age'])"
   ]
  },
  {
   "cell_type": "markdown",
   "id": "efcdca3b-eee8-4d97-b61e-1cfb32bb752f",
   "metadata": {},
   "source": [
    "## Sets"
   ]
  },
  {
   "cell_type": "code",
   "execution_count": null,
   "id": "d2f3f621-4b8c-48f6-ba40-4e5a0c60c86c",
   "metadata": {},
   "outputs": [],
   "source": [
    "my_list = [1, 2, 2, 3, 4, 4, 4, 5]\n",
    "unique_items = set(my_list)\n",
    "print(unique_items)"
   ]
  },
  {
   "cell_type": "code",
   "execution_count": null,
   "id": "43cb75a8-c977-4826-84c6-5d6f36190e2e",
   "metadata": {},
   "outputs": [],
   "source": [
    "a = {1, 2, 3, 4}\n",
    "b = {3, 4, 5, 6}\n",
    "\n",
    "print(a | b)  # Union: {1, 2, 3, 4, 5, 6}\n",
    "print(a & b)  # Intersection: {3, 4}\n",
    "print(a - b)  # Difference: {1, 2}\n",
    "print(a ^ b)  # Symmetric Difference: {1, 2, 5, 6}"
   ]
  },
  {
   "cell_type": "markdown",
   "id": "99595802-6e8c-4557-9e39-d9773be04cb6",
   "metadata": {},
   "source": [
    "## Tuples"
   ]
  },
  {
   "cell_type": "code",
   "execution_count": null,
   "id": "3d33612b-d479-4a48-9c17-b6e62223e970",
   "metadata": {},
   "outputs": [],
   "source": [
    "data = (\"John Doe\", 30, \"Software Engineer\")\n",
    "name, age, profession = data  # Unpacking the tuple\n",
    "print(name, age, profession)"
   ]
  },
  {
   "cell_type": "code",
   "execution_count": null,
   "id": "343c9de0-3e5d-4d07-a972-b4ef1c71afc0",
   "metadata": {},
   "outputs": [],
   "source": [
    "def square_cube(x):\n",
    "    return x**2, x**3\n",
    "a, b = square_cube(2)\n",
    "print(a + b)"
   ]
  },
  {
   "cell_type": "markdown",
   "id": "50f3e32a-5a5c-44d4-a589-59727ba84986",
   "metadata": {},
   "source": [
    "## Misc"
   ]
  },
  {
   "cell_type": "markdown",
   "id": "b3be9144-1ce7-4ed7-9eb6-9c542b888929",
   "metadata": {},
   "source": [
    "### A Cat object with an extremely scientific calculation about how likely that cat is to bite you!"
   ]
  },
  {
   "cell_type": "code",
   "execution_count": null,
   "id": "46edb280-cfef-4ae1-9052-d081617e73d1",
   "metadata": {},
   "outputs": [],
   "source": [
    "class Cat:\n",
    "    def __init__(self, name, mood, hunger_level, playfulness):\n",
    "        self.name = name\n",
    "        self.mood = mood  # \"happy\", \"grumpy\", or \"indifferent\"\n",
    "        self.hunger_level = hunger_level  # an integer from 0 (not hungry) to 10 (very hungry)\n",
    "        self.playfulness = playfulness  # an integer from 0 (no interest in playing) to 10 (very playful)\n",
    "\n",
    "    def calculate_bite_likelihood(self):\n",
    "        # Start with a base likelihood of 5%\n",
    "        likelihood = 5\n",
    "\n",
    "        # Adjust likelihood based on mood\n",
    "        if self.mood == \"grumpy\":\n",
    "            likelihood += 30\n",
    "        elif self.mood == \"happy\":\n",
    "            likelihood -= 10\n",
    "\n",
    "        # Adjust likelihood based on hunger level (more hungry, more likely to bite)\n",
    "        likelihood += self.hunger_level * 3  # Scale hunger effect\n",
    "\n",
    "        # Adjust likelihood based on playfulness (more playful, less likely to bite)\n",
    "        likelihood -= self.playfulness * 2  # Scale playfulness effect\n",
    "\n",
    "        # Ensure that likelihood is within a reasonable range\n",
    "        likelihood = max(0, min(100, likelihood))\n",
    "\n",
    "        return likelihood\n",
    "\n",
    "    def __str__(self):\n",
    "        return f\"{self.name} the cat has a bite likelihood of {self.calculate_bite_likelihood()}%.\"\n",
    "\n",
    "# Example usage\n",
    "andy = Cat(\"Andy\", \"indifferent\", 8, 8)\n",
    "print(andy)"
   ]
  },
  {
   "cell_type": "code",
   "execution_count": null,
   "id": "685eefe9-10ba-4dd1-830b-f67d1c76c518",
   "metadata": {},
   "outputs": [],
   "source": [
    "help(np)"
   ]
  },
  {
   "cell_type": "code",
   "execution_count": null,
   "id": "b0b2ab8d-7bbe-45a5-9168-7b2f3dab76b3",
   "metadata": {},
   "outputs": [],
   "source": [
    "print(f'Here is {a} and here is {b}')\n",
    "print(f'Here is {a+b}')\n",
    "print(f'Here is {a+b:.2f}')"
   ]
  },
  {
   "cell_type": "code",
   "execution_count": null,
   "id": "f59cf313-eac3-4457-8609-62251434b99c",
   "metadata": {},
   "outputs": [],
   "source": [
    "with open('/home/niznik/test.txt', 'r') as f:\n",
    "    print(f.readlines())\n",
    "print(f)"
   ]
  },
  {
   "cell_type": "code",
   "execution_count": null,
   "id": "9cb16245-4da3-4436-854d-0d474d5e5eb6",
   "metadata": {},
   "outputs": [],
   "source": [
    "for c in iter('aeiou'):\n",
    "    print(c)"
   ]
  },
  {
   "cell_type": "code",
   "execution_count": null,
   "id": "114a886e-fe45-48e8-90ac-4684b4fd4c37",
   "metadata": {},
   "outputs": [],
   "source": [
    "from __future__ import braces"
   ]
  }
 ],
 "metadata": {
  "kernelspec": {
   "display_name": "Python 3 (ipykernel)",
   "language": "python",
   "name": "python3"
  },
  "language_info": {
   "codemirror_mode": {
    "name": "ipython",
    "version": 3
   },
   "file_extension": ".py",
   "mimetype": "text/x-python",
   "name": "python",
   "nbconvert_exporter": "python",
   "pygments_lexer": "ipython3",
   "version": "3.11.7"
  }
 },
 "nbformat": 4,
 "nbformat_minor": 5
}
